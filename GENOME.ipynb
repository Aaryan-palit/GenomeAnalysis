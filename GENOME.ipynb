{
 "cells": [
  {
   "cell_type": "code",
   "execution_count": 2,
   "id": "1ec8b15e",
   "metadata": {
    "scrolled": false
   },
   "outputs": [
    {
     "name": "stdout",
     "output_type": "stream",
     "text": [
      "ATCGTTGCGCGACCG\n",
      "4\n",
      "['ATCG', 'TCGT', 'CGTT', 'GTTG', 'TTGC', 'TGCG', 'GCGC', 'CGCG', 'GCGA', 'CGAC', 'GACC', 'ACCG']\n",
      "\n",
      "De brugin reads are:\n",
      "({'GTT', 'GCG', 'ATC', 'CCG', 'CGA', 'TGC', 'CGT', 'GAC', 'ACC', 'TCG', 'CGC', 'TTG'}, [('ATC', 'TCG'), ('TCG', 'CGT'), ('CGT', 'GTT'), ('GTT', 'TTG'), ('TTG', 'TGC'), ('TGC', 'GCG'), ('GCG', 'CGC'), ('CGC', 'GCG'), ('GCG', 'CGA'), ('CGA', 'GAC'), ('GAC', 'ACC'), ('ACC', 'CCG')], ['ATC'])\n"
     ]
    }
   ],
   "source": [
    "import networkx as nx\n",
    "import numpy as np\n",
    "import matplotlib.pyplot as plt\n",
    "import itertools\n",
    "\n",
    "def de_bruijnize(st, k):\n",
    "    edges = []\n",
    "    nodes = set()\n",
    "    not_starts = set()\n",
    "    for i in range(len(st)-k+1):\n",
    "        edges.append((st[i:i+k-1],st[i+1:i+k]))\n",
    "        nodes.add(st[i:i+k-1])\n",
    "        nodes.add(st[i+1:i+k])\n",
    "        not_starts.add(st[i+1:i+k])\n",
    "    return nodes,edges,list(nodes-not_starts)\n",
    "\n",
    "# def debruijnize(reads):\n",
    "#     nodes = set()\n",
    "#     not_starts = set()\n",
    "#     edges = []\n",
    "#     for r in reads:\n",
    "#         r1 = r[:-1]\n",
    "#         r2 = r[1:]\n",
    "#         nodes.add(r1)\n",
    "#         nodes.add(r2)\n",
    "#         edges.append((r1,r2))\n",
    "#         not_starts.add(r2)\n",
    "#     return (nodes,edges,list(nodes-not_starts))\n",
    "\n",
    "def visual(st, k):\n",
    "    G = nx.DiGraph(directed=True)\n",
    "\n",
    "    nodes, edges= de_bruijnize(st, k)[0:2]\n",
    "    for node in nodes:\n",
    "        G.add_node(node)\n",
    "\n",
    "    G.add_edges_from(edges)\n",
    "    print(G.nodes)\n",
    "    print(G.edges)\n",
    "    options = {\n",
    "    'node_color': 'yellow',\n",
    "    'node_size': 700,\n",
    "    'width': 2,\n",
    "    'arrowstyle': '-|>',\n",
    "    'arrowsize': 10,}\n",
    "\n",
    "    pos=nx.spring_layout(G)\n",
    "    nx.draw_networkx(G, arrows=True, **options)\n",
    "    plt. show()\n",
    "\n",
    "def build_k_mer(str,k):\n",
    "    return [str[i:k+i] for i in range(0,len(str)-k+1)]\n",
    "\n",
    "\n",
    "def make_node_edge_map(edges):\n",
    "    node_edge_map = {}\n",
    "    for e in edges:\n",
    "        n = e[0]\n",
    "        if n in node_edge_map:\n",
    "            node_edge_map[n].append(e[1])\n",
    "        else:\n",
    "            node_edge_map[n] = [e[1]]\n",
    "    return node_edge_map\n",
    "\n",
    "\n",
    "def eulerian_trail(m,v):\n",
    "    nemap = m\n",
    "    result_trail = []\n",
    "    start = v\n",
    "    result_trail.append(start)\n",
    "    while(True):\n",
    "        trail = []\n",
    "        previous = start\n",
    "        while(True):\n",
    "            \n",
    "            if(previous not in nemap):\n",
    "                break\n",
    "            next = nemap[previous].pop()\n",
    "            if(len(nemap[previous]) == 0):\n",
    "                nemap.pop(previous,None)\n",
    "            trail.append(next)\n",
    "            if(next == start):\n",
    "                break;\n",
    "            previous = next\n",
    "        # completed one trail\n",
    "        print(trail)\n",
    "        index = result_trail.index(start)\n",
    "        result_trail = result_trail[0:index+1] + trail + result_trail[index+1:len(result_trail)]\n",
    "        # choose new start\n",
    "        if(len(nemap)==0):\n",
    "          break\n",
    "        found_new_start = False\n",
    "        for n in result_trail:\n",
    "            if n in nemap:\n",
    "                start = n\n",
    "                found_new_start = True\n",
    "                break # from for loop\n",
    "        if not found_new_start:\n",
    "            print(\"error\")\n",
    "            print(\"result_trail\",result_trail)\n",
    "            print(nemap)\n",
    "            break\n",
    "    return result_trail\n",
    "\n",
    "def assemble_trail(trail):\n",
    "    if len(trail) == 0:\n",
    "        return \"\"\n",
    "    result = trail[0][:-1]\n",
    "    for node in trail:\n",
    "        result += node[-1]\n",
    "    return result\n",
    "# def test_assembly_debruijn(t,k):\n",
    "#     reads = build_k_mer(t,k)\n",
    "#     G = debruijnize(reads)\n",
    "#     v = visualize_debruijn(G)\n",
    "#     nemap = make_node_edge_map(G[1])\n",
    "#     print(G)\n",
    "#     print(v)\n",
    "#     start = next(iter(G[2])) if (len(G[2]) > 0) else next(iter(G[0]))\n",
    "#     trail = eulerian_trail(nemap,start)\n",
    "#     return assemble_trail(trail)\n",
    "# genome eg: ATCGTTGCGCGACCG\n",
    "st=input()\n",
    "k=int(input())\n",
    "reads = build_k_mer(st, k)\n",
    "print(reads)\n",
    "\n",
    "print(\"\\nDe brugin reads are:\")\n",
    "# G = debruijnize(reads)\n",
    "G = de_bruijnize(st,k)\n",
    "print(G)"
   ]
  },
  {
   "cell_type": "code",
   "execution_count": 3,
   "id": "df865bc2",
   "metadata": {},
   "outputs": [
    {
     "name": "stdout",
     "output_type": "stream",
     "text": [
      "{'ATC': ['TCG'], 'TCG': ['CGT'], 'CGT': ['GTT'], 'GTT': ['TTG'], 'TTG': ['TGC'], 'TGC': ['GCG'], 'GCG': ['CGC', 'CGA'], 'CGC': ['GCG'], 'CGA': ['GAC'], 'GAC': ['ACC'], 'ACC': ['CCG']}\n"
     ]
    }
   ],
   "source": [
    "m = make_node_edge_map(G[1])\n",
    "print(m)"
   ]
  },
  {
   "cell_type": "code",
   "execution_count": 4,
   "id": "1c93b0ce",
   "metadata": {},
   "outputs": [],
   "source": [
    "start = G[2][0] if (len(G[2]) > 0) else G[0][0]\n",
    "# print (m)"
   ]
  },
  {
   "cell_type": "code",
   "execution_count": 5,
   "id": "20a06068",
   "metadata": {
    "scrolled": true
   },
   "outputs": [
    {
     "name": "stdout",
     "output_type": "stream",
     "text": [
      "['TCG', 'CGT', 'GTT', 'TTG', 'TGC', 'GCG', 'CGA', 'GAC', 'ACC', 'CCG']\n",
      "['CGC', 'GCG']\n",
      "['ATC', 'TCG', 'CGT', 'GTT', 'TTG', 'TGC', 'GCG', 'CGC', 'GCG', 'CGA', 'GAC', 'ACC', 'CCG']\n"
     ]
    }
   ],
   "source": [
    "t = eulerian_trail(m,start)\n",
    "print(t)"
   ]
  },
  {
   "cell_type": "code",
   "execution_count": 6,
   "id": "fbda8cca",
   "metadata": {
    "scrolled": true
   },
   "outputs": [
    {
     "name": "stdout",
     "output_type": "stream",
     "text": [
      "['GTT', 'GCG', 'ATC', 'CCG', 'CGA', 'TGC', 'CGT', 'GAC', 'ACC', 'TCG', 'CGC', 'TTG']\n",
      "[('GTT', 'TTG'), ('GCG', 'CGC'), ('GCG', 'CGA'), ('ATC', 'TCG'), ('CGA', 'GAC'), ('TGC', 'GCG'), ('CGT', 'GTT'), ('GAC', 'ACC'), ('ACC', 'CCG'), ('TCG', 'CGT'), ('CGC', 'GCG'), ('TTG', 'TGC')]\n"
     ]
    },
    {
     "data": {
      "image/png": "[encoded data removed]",
      "text/plain": [
       "<Figure size 432x288 with 1 Axes>"
      ]
     },
     "metadata": {},
     "output_type": "display_data"
    }
   ],
   "source": [
    "visual(st, k)"
   ]
  },
  {
   "cell_type": "code",
   "execution_count": 7,
   "id": "b9480b01",
   "metadata": {},
   "outputs": [
    {
     "data": {
      "text/plain": [
       "'ATCGTTGCGCGACCG'"
      ]
     },
     "execution_count": 7,
     "metadata": {},
     "output_type": "execute_result"
    }
   ],
   "source": [
    "assemble_trail(t)"
   ]
  }
 ],
 "metadata": {
  "kernelspec": {
   "display_name": "Python 3",
   "language": "python",
   "name": "python3"
  },
  "language_info": {
   "codemirror_mode": {
    "name": "ipython",
    "version": 3
   },
   "file_extension": ".py",
   "mimetype": "text/x-python",
   "name": "python",
   "nbconvert_exporter": "python",
   "pygments_lexer": "ipython3",
   "version": "3.8.8"
  }
 },
 "nbformat": 4,
 "nbformat_minor": 5
}
